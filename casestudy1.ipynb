{
  "nbformat": 4,
  "nbformat_minor": 0,
  "metadata": {
    "colab": {
      "provenance": []
    },
    "kernelspec": {
      "name": "python3",
      "display_name": "Python 3"
    },
    "language_info": {
      "name": "python"
    }
  },
  "cells": [
    {
      "cell_type": "markdown",
      "source": [],
      "metadata": {
        "id": "aiK3pWwgROji"
      }
    },
    {
      "cell_type": "markdown",
      "source": [
        "1. Grocery Store Bill Calculator\n",
        "A grocery store wants a program to calculate the total bill for a customer.\n",
        "a. Store the prices of items in a dictionary (e.g., {'apple': 10, 'milk': 50})\n",
        "b. Take the items purchased and their quantities as input.\n",
        "c. Calculate and display the total bill amount."
      ],
      "metadata": {
        "id": "3wrOpg54RRqp"
      }
    },
    {
      "cell_type": "code",
      "source": [
        "\n",
        "  dict={'apple':100,'milk':15,'bread':40,'egg':6,'cheese':70,'papaya':60,'banana':70}\n",
        "  total_price=0\n",
        "  num_of_items=int(input('enter the number of items '))\n",
        "  for i in range (num_of_items):\n",
        "    items_purchased=input('enter the items purchased ')\n",
        "    if items_purchased in dict:\n",
        "      Quantities_purchased=int(input('enter the quantities'))\n",
        "      price= Quantities_purchased*dict[items_purchased]\n",
        "      print(f\"items purchased :{items_purchased}, Quantities :{Quantities_purchased}, price: {dict[items_purchased]}, Total:{price}\")\n",
        "      total_price=total_price+price\n",
        "    else:\n",
        "      print('not available')\n",
        "  print(f\"Total bill:{total_price}\")\n"
      ],
      "metadata": {
        "colab": {
          "base_uri": "https://localhost:8080/"
        },
        "id": "7_Q--nRuaB3u",
        "outputId": "7d8c215e-fc30-4a59-c37e-57559db552f7"
      },
      "execution_count": 23,
      "outputs": [
        {
          "output_type": "stream",
          "name": "stdout",
          "text": [
            "enter the number of items 4\n",
            "enter the items purchased egg\n",
            "enter the quantities1\n",
            "items purchased :egg, Quantities :1, price: 6, Total:6\n",
            "enter the items purchased apple\n",
            "enter the quantities1\n",
            "items purchased :apple, Quantities :1, price: 100, Total:100\n",
            "enter the items purchased bread\n",
            "enter the quantities1\n",
            "items purchased :bread, Quantities :1, price: 40, Total:40\n",
            "enter the items purchased papaya\n",
            "enter the quantities1\n",
            "items purchased :papaya, Quantities :1, price: 60, Total:60\n",
            "Total bill:206\n"
          ]
        }
      ]
    },
    {
      "cell_type": "markdown",
      "source": [
        "2. Student Grade Calculator\n",
        "A teacher wants a program to calculate grades for students based on their marks.\n",
        "a. Store marks for 5 subjects in a list.\n",
        "b. Calculate the average and determine the grade:\n",
        "o 90+ -> A\n",
        "o 70-89 -> B\n",
        "o 50-69 -> C\n",
        "o <50 -> F\n",
        "c. Display the average and the grade."
      ],
      "metadata": {
        "id": "cYjGrJVdnv3p"
      }
    },
    {
      "cell_type": "markdown",
      "source": [],
      "metadata": {
        "id": "EOYy3CfKsV69"
      }
    },
    {
      "cell_type": "code",
      "source": [
        "mark=[int(input('Enter mark in maths ')),int(input('Enter mark in physics ')),int(input('Enter mark in chemistry ')),int(input('Enter mark in biology ')),int(input('Enter mark in english '))]\n",
        "Total=0\n",
        "for i in range(5):\n",
        "   Total=Total+mark[i]\n",
        "Average=Total/5\n",
        "if Average>=90:\n",
        "  print(f\"Average is {Average} and grade is A\")\n",
        "elif Average>=70 and Average<90:\n",
        "  print(f\"Average is {Average} and grade is B\")\n",
        "elif Average>=50 and Average<70:\n",
        "  print(f\"Average is {Average} and grade is c\")\n",
        "elif Average<50:\n",
        "  print(f\"Average is {Average} and grade is F\")\n",
        "\n",
        "\n",
        "\n",
        "\n",
        "\n",
        "\n"
      ],
      "metadata": {
        "colab": {
          "base_uri": "https://localhost:8080/"
        },
        "id": "7bLN7_H5n831",
        "outputId": "c97743a1-0066-4e56-ac13-a62226571a52"
      },
      "execution_count": 24,
      "outputs": [
        {
          "output_type": "stream",
          "name": "stdout",
          "text": [
            "Enter mark in maths 98\n",
            "Enter mark in physics 96\n",
            "Enter mark in chemistry 87\n",
            "Enter mark in biology 98\n",
            "Enter mark in english 90\n",
            "Average is 93.8 and grade is A\n"
          ]
        }
      ]
    },
    {
      "cell_type": "markdown",
      "source": [
        "A movie theatre wants to automate ticket booking for customers.\n",
        "a. Use a list to store the available seats (e.g., [1, 2, 3, ..., 20]).\n",
        "b. Allow the customer to book a seat by entering the seat number.\n",
        "c. After booking, remove the seat from the list of available seats.\n",
        "d. Display the remaining available seats"
      ],
      "metadata": {
        "id": "iCJLfXUPykP1"
      }
    },
    {
      "cell_type": "code",
      "source": [
        "Availabe_seats=[1,2,3,4,5]\n",
        "print(f\"Seats Availabe {Availabe_seats}\")\n",
        "for i in range (len(Availabe_seats)):\n",
        "  seat_booked=int(input('Book seat number '))\n",
        "  if seat_booked in Availabe_seats:\n",
        "    Availabe_seats.remove(seat_booked)\n",
        "    if len(Availabe_seats)!=0:\n",
        "      print(f\"seats left :{Availabe_seats}\")\n",
        "    else:\n",
        "      print('No seats are Availabe')\n",
        "\n"
      ],
      "metadata": {
        "colab": {
          "base_uri": "https://localhost:8080/"
        },
        "id": "kMXLVzzGtOAZ",
        "outputId": "e5b00cda-4bcd-4b8e-d323-a230681e99cf"
      },
      "execution_count": 25,
      "outputs": [
        {
          "output_type": "stream",
          "name": "stdout",
          "text": [
            "Seats Availabe [1, 2, 3, 4, 5]\n",
            "Book seat number 3\n",
            "seats left :[1, 2, 4, 5]\n",
            "Book seat number 4\n",
            "seats left :[1, 2, 5]\n",
            "Book seat number 2\n",
            "seats left :[1, 5]\n",
            "Book seat number 1\n",
            "seats left :[5]\n",
            "Book seat number 5\n",
            "No seats are Availabe\n"
          ]
        }
      ]
    },
    {
      "cell_type": "markdown",
      "source": [],
      "metadata": {
        "id": "0m1qYGV45Ysm"
      }
    }
  ]
}